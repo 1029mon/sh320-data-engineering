{
 "cells": [
  {
   "cell_type": "code",
   "execution_count": 5,
   "id": "e45e039d",
   "metadata": {},
   "outputs": [],
   "source": [
    "subjects = [\"physics\",\"calculus\",\"poetry\",\"history\"]\n",
    "grades = [98,97,85,88]"
   ]
  },
  {
   "cell_type": "code",
   "execution_count": 6,
   "id": "aa129e35",
   "metadata": {},
   "outputs": [
    {
     "data": {
      "text/plain": [
       "[['physics', 98], ['calculus', 97], ['poetry', 85], ['history', 88]]"
      ]
     },
     "execution_count": 6,
     "metadata": {},
     "output_type": "execute_result"
    }
   ],
   "source": [
    "gradebook = [[subjects[0],grades[0]],[subjects[1],grades[1]],\n",
    "            [subjects[2],grades[2]],[subjects[3],grades[3]]]\n",
    "gradebook"
   ]
  },
  {
   "cell_type": "code",
   "execution_count": 7,
   "id": "94412a37",
   "metadata": {},
   "outputs": [
    {
     "data": {
      "text/plain": [
       "[['physics', 98],\n",
       " ['calculus', 97],\n",
       " ['poetry', 85],\n",
       " ['history', 88],\n",
       " ['computer science', 100],\n",
       " ['visual arts', 93]]"
      ]
     },
     "execution_count": 7,
     "metadata": {},
     "output_type": "execute_result"
    }
   ],
   "source": [
    "gradebook.append(['computer science', 100])\n",
    "gradebook.append(['visual arts', 93])\n",
    "gradebook"
   ]
  },
  {
   "cell_type": "code",
   "execution_count": 8,
   "id": "18945120",
   "metadata": {},
   "outputs": [
    {
     "data": {
      "text/plain": [
       "[['physics', 98],\n",
       " ['calculus', 97],\n",
       " ['poetry', 85],\n",
       " ['history', 88],\n",
       " ['computer science', 100],\n",
       " ['visual arts', 98]]"
      ]
     },
     "execution_count": 8,
     "metadata": {},
     "output_type": "execute_result"
    }
   ],
   "source": [
    "for i in gradebook:\n",
    "    if i[0] =='visual arts':\n",
    "        i[1] += 5\n",
    "        break\n",
    "gradebook"
   ]
  },
  {
   "cell_type": "code",
   "execution_count": 9,
   "id": "0aa86329",
   "metadata": {},
   "outputs": [
    {
     "data": {
      "text/plain": [
       "[['physics', 98],\n",
       " ['calculus', 97],\n",
       " ['history', 88],\n",
       " ['computer science', 100],\n",
       " ['visual arts', 98]]"
      ]
     },
     "execution_count": 9,
     "metadata": {},
     "output_type": "execute_result"
    }
   ],
   "source": [
    "gradebook.remove(['poetry', 85])\n",
    "gradebook\n"
   ]
  },
  {
   "cell_type": "code",
   "execution_count": 10,
   "id": "c9147e0f",
   "metadata": {},
   "outputs": [
    {
     "data": {
      "text/plain": [
       "[['physics', 98],\n",
       " ['calculus', 97],\n",
       " ['history', 88],\n",
       " ['computer science', 100],\n",
       " ['visual arts', 98],\n",
       " ['poetry', 'Pass']]"
      ]
     },
     "execution_count": 10,
     "metadata": {},
     "output_type": "execute_result"
    }
   ],
   "source": [
    "gradebook.append(['poetry', 'Pass'])\n",
    "gradebook"
   ]
  },
  {
   "cell_type": "code",
   "execution_count": 11,
   "id": "b4f9d114",
   "metadata": {},
   "outputs": [
    {
     "data": {
      "text/plain": [
       "[['physics', 98],\n",
       " ['calculus', 97],\n",
       " ['history', 88],\n",
       " ['computer science', 100],\n",
       " ['visual arts', 98],\n",
       " ['poetry', 'Pass'],\n",
       " ['politics', 80],\n",
       " ['latin', 96],\n",
       " ['dance', 97],\n",
       " ['architecture', 65]]"
      ]
     },
     "execution_count": 11,
     "metadata": {},
     "output_type": "execute_result"
    }
   ],
   "source": [
    "last_semester_gradebook = [[\"politics\", 80], [\"latin\", 96], [\"dance\", 97], [\"architecture\", 65]]\n",
    "full_gradebook = gradebook + last_semester_gradebook\n",
    "full_gradebook"
   ]
  },
  {
   "cell_type": "code",
   "execution_count": null,
   "id": "c546f73e",
   "metadata": {},
   "outputs": [],
   "source": []
  }
 ],
 "metadata": {
  "kernelspec": {
   "display_name": "base",
   "language": "python",
   "name": "python3"
  },
  "language_info": {
   "codemirror_mode": {
    "name": "ipython",
    "version": 3
   },
   "file_extension": ".py",
   "mimetype": "text/x-python",
   "name": "python",
   "nbconvert_exporter": "python",
   "pygments_lexer": "ipython3",
   "version": "3.12.7"
  }
 },
 "nbformat": 4,
 "nbformat_minor": 5
}
