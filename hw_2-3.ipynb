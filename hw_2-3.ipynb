{
 "cells": [
  {
   "cell_type": "code",
   "execution_count": 11,
   "id": "f151eb9c",
   "metadata": {},
   "outputs": [
    {
     "name": "stdout",
     "output_type": "stream",
     "text": [
      "Average price is 31.875\n"
     ]
    }
   ],
   "source": [
    "hairstyles = [\"bouffant\", \"pixie\", \"dreadlocks\", \"crew\", \"bowl\", \"bob\", \"mohawk\", \"flattop\"]\n",
    "prices = [30, 25, 40, 20, 20, 35, 50, 35]\n",
    "last_week = [2, 3, 5, 8, 4, 4, 6, 2]\n",
    "\n",
    "total_price = sum(prices)\n",
    "avarage_price = total_price / len(prices)\n",
    "print(\"Average price is {}\".format(avarage_price))"
   ]
  },
  {
   "cell_type": "code",
   "execution_count": 12,
   "id": "e14f0bf5",
   "metadata": {},
   "outputs": [
    {
     "data": {
      "text/plain": [
       "[25, 20, 35, 15, 15, 30, 45, 30]"
      ]
     },
     "execution_count": 12,
     "metadata": {},
     "output_type": "execute_result"
    }
   ],
   "source": [
    "new_prices = [price-5 for price in prices ]\n",
    "new_prices"
   ]
  },
  {
   "cell_type": "code",
   "execution_count": 13,
   "id": "5b02e0f3",
   "metadata": {},
   "outputs": [
    {
     "name": "stdout",
     "output_type": "stream",
     "text": [
      "Average daily revenue is 155.0\n"
     ]
    }
   ],
   "source": [
    "total_revenue = 0\n",
    "for i in range(0, len(hairstyles)):\n",
    "    total_revenue += (last_week[i] * prices[i])\n",
    "\n",
    "average_daily_revenue = total_revenue / 7\n",
    "print(\"Average daily revenue is {}\".format(average_daily_revenue))\n"
   ]
  },
  {
   "cell_type": "code",
   "execution_count": 18,
   "id": "b5fb40bc",
   "metadata": {},
   "outputs": [
    {
     "data": {
      "text/plain": [
       "['bouffant', 'pixie', 'crew', 'bowl']"
      ]
     },
     "execution_count": 18,
     "metadata": {},
     "output_type": "execute_result"
    }
   ],
   "source": [
    "cuts_under_30 = [hairstyles[i] for i in range(len(new_prices)) if new_prices[i] < 30]\n",
    "cuts_under_30"
   ]
  }
 ],
 "metadata": {
  "kernelspec": {
   "display_name": "base",
   "language": "python",
   "name": "python3"
  },
  "language_info": {
   "codemirror_mode": {
    "name": "ipython",
    "version": 3
   },
   "file_extension": ".py",
   "mimetype": "text/x-python",
   "name": "python",
   "nbconvert_exporter": "python",
   "pygments_lexer": "ipython3",
   "version": "3.12.7"
  }
 },
 "nbformat": 4,
 "nbformat_minor": 5
}
